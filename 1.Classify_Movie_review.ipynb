{
  "nbformat": 4,
  "nbformat_minor": 0,
  "metadata": {
    "colab": {
      "name": "Classify Movie review.ipynb",
      "provenance": [],
      "collapsed_sections": []
    },
    "kernelspec": {
      "name": "python3",
      "display_name": "Python 3"
    },
    "language_info": {
      "name": "python"
    },
    "accelerator": "GPU"
  },
  "cells": [
    {
      "cell_type": "code",
      "metadata": {
        "id": "3MRA_5EJPavn"
      },
      "source": [
        "import keras\n",
        "from keras.datasets import imdb"
      ],
      "execution_count": 1,
      "outputs": []
    },
    {
      "cell_type": "code",
      "metadata": {
        "colab": {
          "base_uri": "https://localhost:8080/",
          "height": 35
        },
        "id": "fGYEFgdsRKmV",
        "outputId": "f9d84cbf-f578-45ba-b175-cd23482946ce"
      },
      "source": [
        "keras.__version__"
      ],
      "execution_count": 2,
      "outputs": [
        {
          "output_type": "execute_result",
          "data": {
            "application/vnd.google.colaboratory.intrinsic+json": {
              "type": "string"
            },
            "text/plain": [
              "'2.5.0'"
            ]
          },
          "metadata": {
            "tags": []
          },
          "execution_count": 2
        }
      ]
    },
    {
      "cell_type": "code",
      "metadata": {
        "colab": {
          "base_uri": "https://localhost:8080/"
        },
        "id": "X12tlxoiT_4L",
        "outputId": "9c1f8c13-978a-4c1c-d714-e77fb8b19e37"
      },
      "source": [
        "(train_data, train_labels), (test_data, test_labels) = imdb.load_data(num_words=10000)"
      ],
      "execution_count": 3,
      "outputs": [
        {
          "output_type": "stream",
          "text": [
            "Downloading data from https://storage.googleapis.com/tensorflow/tf-keras-datasets/imdb.npz\n",
            "17465344/17464789 [==============================] - 0s 0us/step\n",
            "17473536/17464789 [==============================] - 0s 0us/step\n"
          ],
          "name": "stdout"
        },
        {
          "output_type": "stream",
          "text": [
            "<string>:6: VisibleDeprecationWarning: Creating an ndarray from ragged nested sequences (which is a list-or-tuple of lists-or-tuples-or ndarrays with different lengths or shapes) is deprecated. If you meant to do this, you must specify 'dtype=object' when creating the ndarray\n",
            "/usr/local/lib/python3.7/dist-packages/keras/datasets/imdb.py:155: VisibleDeprecationWarning: Creating an ndarray from ragged nested sequences (which is a list-or-tuple of lists-or-tuples-or ndarrays with different lengths or shapes) is deprecated. If you meant to do this, you must specify 'dtype=object' when creating the ndarray\n",
            "  x_train, y_train = np.array(xs[:idx]), np.array(labels[:idx])\n",
            "/usr/local/lib/python3.7/dist-packages/keras/datasets/imdb.py:156: VisibleDeprecationWarning: Creating an ndarray from ragged nested sequences (which is a list-or-tuple of lists-or-tuples-or ndarrays with different lengths or shapes) is deprecated. If you meant to do this, you must specify 'dtype=object' when creating the ndarray\n",
            "  x_test, y_test = np.array(xs[idx:]), np.array(labels[idx:])\n"
          ],
          "name": "stderr"
        }
      ]
    },
    {
      "cell_type": "code",
      "metadata": {
        "colab": {
          "base_uri": "https://localhost:8080/"
        },
        "id": "F58ceLrAaxMY",
        "outputId": "d7a2fb56-1545-458b-b583-0d95083c5394"
      },
      "source": [
        "train_data.shape, test_data.shape, train_labels.shape, test_labels.shape"
      ],
      "execution_count": 4,
      "outputs": [
        {
          "output_type": "execute_result",
          "data": {
            "text/plain": [
              "((25000,), (25000,), (25000,), (25000,))"
            ]
          },
          "metadata": {
            "tags": []
          },
          "execution_count": 4
        }
      ]
    },
    {
      "cell_type": "code",
      "metadata": {
        "id": "Vp6o_9v4a2Uu"
      },
      "source": [
        "train_data[0], train_labels[0]"
      ],
      "execution_count": null,
      "outputs": []
    },
    {
      "cell_type": "code",
      "metadata": {
        "id": "_XL8FWIjbc2v",
        "colab": {
          "base_uri": "https://localhost:8080/"
        },
        "outputId": "87aa49b2-cebf-422a-d58d-33fc89af1ae0"
      },
      "source": [
        "# word_index is a dictionary mapping words to an integer index\n",
        "word_index = imdb.get_word_index()\n",
        "# We reverse it, mapping integer indices to words\n",
        "reverse_word_index = dict([(value, key) for (key, value) in word_index.items()])\n",
        "# We decode the review; note that our indices were offset by 3\n",
        "# because 0, 1 and 2 are reserved indices for \"padding\", \"start of sequence\", and \"unknown\".\n",
        "decoded_review = ' '.join([reverse_word_index.get(i - 3, '?') for i in train_data[0]])"
      ],
      "execution_count": 6,
      "outputs": [
        {
          "output_type": "stream",
          "text": [
            "Downloading data from https://storage.googleapis.com/tensorflow/tf-keras-datasets/imdb_word_index.json\n",
            "1646592/1641221 [==============================] - 0s 0us/step\n",
            "1654784/1641221 [==============================] - 0s 0us/step\n"
          ],
          "name": "stdout"
        }
      ]
    },
    {
      "cell_type": "code",
      "metadata": {
        "colab": {
          "base_uri": "https://localhost:8080/",
          "height": 103
        },
        "id": "9-h9cIafrqYA",
        "outputId": "bc0df92a-baf1-4346-c57b-6930a14cd0b5"
      },
      "source": [
        "decoded_review"
      ],
      "execution_count": 7,
      "outputs": [
        {
          "output_type": "execute_result",
          "data": {
            "application/vnd.google.colaboratory.intrinsic+json": {
              "type": "string"
            },
            "text/plain": [
              "\"? this film was just brilliant casting location scenery story direction everyone's really suited the part they played and you could just imagine being there robert ? is an amazing actor and now the same being director ? father came from the same scottish island as myself so i loved the fact there was a real connection with this film the witty remarks throughout the film were great it was just brilliant so much that i bought the film as soon as it was released for ? and would recommend it to everyone to watch and the fly fishing was amazing really cried at the end it was so sad and you know what they say if you cry at a film it must have been good and this definitely was also ? to the two little boy's that played the ? of norman and paul they were just brilliant children are often left out of the ? list i think because the stars that play them all grown up are such a big profile for the whole film but these children are amazing and should be praised for what they have done don't you think the whole story was so lovely because it was true and was someone's life after all that was shared with us all\""
            ]
          },
          "metadata": {
            "tags": []
          },
          "execution_count": 7
        }
      ]
    },
    {
      "cell_type": "code",
      "metadata": {
        "id": "YtoQLOgRruT4"
      },
      "source": [
        "# Preparing the data\n",
        "# Encoding the integer sequences into a binary matrix ( One-hot Encode lists to turn them into vectors of 0's & 1's\n",
        "\n",
        "import numpy as np\n",
        "def vectorize_sequences(sequences, dimension=10000):\n",
        "  results = np.zeros((len(sequences), dimension))\n",
        "  for i, sequence in enumerate(sequences):\n",
        "    results[i, sequence] = 1.\n",
        "  return results\n",
        "\n",
        "\n",
        "x_train = vectorize_sequences(train_data)       # vectorize train data\n",
        "x_test = vectorize_sequences(test_data)         # vectorize test data\n",
        "\n"
      ],
      "execution_count": 8,
      "outputs": []
    },
    {
      "cell_type": "code",
      "metadata": {
        "colab": {
          "base_uri": "https://localhost:8080/"
        },
        "id": "U2YAmuSl5Xrh",
        "outputId": "5185081f-d269-401a-d4ad-3e55614e975c"
      },
      "source": [
        "x_train[0]"
      ],
      "execution_count": 9,
      "outputs": [
        {
          "output_type": "execute_result",
          "data": {
            "text/plain": [
              "array([0., 1., 1., ..., 0., 0., 0.])"
            ]
          },
          "metadata": {
            "tags": []
          },
          "execution_count": 9
        }
      ]
    },
    {
      "cell_type": "code",
      "metadata": {
        "id": "JNBLQvBz9pAQ"
      },
      "source": [
        "# Vectorizing the labels\n",
        "y_train = np.asarray(train_labels).astype('float32')\n",
        "y_test = np.asarray(test_labels).astype('float32')\n"
      ],
      "execution_count": 10,
      "outputs": []
    },
    {
      "cell_type": "markdown",
      "metadata": {
        "id": "NAI1ZSiY-PKH"
      },
      "source": [
        "### Now data is ready to feed into Neural network"
      ]
    },
    {
      "cell_type": "code",
      "metadata": {
        "colab": {
          "base_uri": "https://localhost:8080/"
        },
        "id": "YglMPGXj-L5F",
        "outputId": "fb1ab754-b9a2-4535-dfe0-a131838d985f"
      },
      "source": [
        "# Model definition\n",
        "\n",
        "from keras import models\n",
        "from keras import layers\n",
        "from keras import optimizers\n",
        "\n",
        "model = models.Sequential()\n",
        "model.add(layers.Dense(16, activation='relu', input_shape=(10000,)))\n",
        "model.add(layers.Dense(16, activation='relu'))\n",
        "model.add(layers.Dense(1, activation='sigmoid'))\n",
        "\n",
        "\n",
        "# Compile the model by choosig a Loss function & Optimizer\n",
        "# Problem is Binary classification so Loss function - 'bianry_crossentropy' & optimizer='rmsprop'\n",
        "# and metrics='accuracy'\n",
        "model.compile(optimizer='rmsprop',\n",
        "              loss='binary_crossentropy',\n",
        "              metrics=['accuracy'])\n",
        "\n",
        "\n",
        "\n",
        "# Validating your approach\n",
        "# Create a validation set by setting 10000 samples apart from training set\n",
        "x_val = x_train[:10000]\n",
        "partial_x_train = x_train[10000:]\n",
        "\n",
        "y_val = y_train[:10000]\n",
        "partial_y_train = y_train[10000:]\n",
        "\n",
        "\n",
        "\n",
        "# Training the model, & validating it on validation set\n",
        "history = model.fit(partial_x_train,\n",
        "                    partial_y_train,\n",
        "                    epochs=10,\n",
        "                    batch_size=512,\n",
        "                    validation_data=(x_val, y_val))"
      ],
      "execution_count": 11,
      "outputs": [
        {
          "output_type": "stream",
          "text": [
            "Epoch 1/10\n",
            "30/30 [==============================] - 16s 45ms/step - loss: 0.5906 - accuracy: 0.6989 - val_loss: 0.4073 - val_accuracy: 0.8384\n",
            "Epoch 2/10\n",
            "30/30 [==============================] - 1s 18ms/step - loss: 0.3173 - accuracy: 0.9068 - val_loss: 0.3051 - val_accuracy: 0.8897\n",
            "Epoch 3/10\n",
            "30/30 [==============================] - 1s 18ms/step - loss: 0.2239 - accuracy: 0.9338 - val_loss: 0.2888 - val_accuracy: 0.8854\n",
            "Epoch 4/10\n",
            "30/30 [==============================] - 1s 19ms/step - loss: 0.1833 - accuracy: 0.9426 - val_loss: 0.3044 - val_accuracy: 0.8798\n",
            "Epoch 5/10\n",
            "30/30 [==============================] - 1s 18ms/step - loss: 0.1395 - accuracy: 0.9588 - val_loss: 0.2953 - val_accuracy: 0.8805\n",
            "Epoch 6/10\n",
            "30/30 [==============================] - 1s 18ms/step - loss: 0.1109 - accuracy: 0.9676 - val_loss: 0.2945 - val_accuracy: 0.8868\n",
            "Epoch 7/10\n",
            "30/30 [==============================] - 1s 18ms/step - loss: 0.0899 - accuracy: 0.9771 - val_loss: 0.3126 - val_accuracy: 0.8830\n",
            "Epoch 8/10\n",
            "30/30 [==============================] - 1s 18ms/step - loss: 0.0715 - accuracy: 0.9836 - val_loss: 0.3529 - val_accuracy: 0.8749\n",
            "Epoch 9/10\n",
            "30/30 [==============================] - 1s 18ms/step - loss: 0.0577 - accuracy: 0.9880 - val_loss: 0.3833 - val_accuracy: 0.8723\n",
            "Epoch 10/10\n",
            "30/30 [==============================] - 1s 18ms/step - loss: 0.0488 - accuracy: 0.9892 - val_loss: 0.3787 - val_accuracy: 0.8772\n"
          ],
          "name": "stdout"
        }
      ]
    },
    {
      "cell_type": "code",
      "metadata": {
        "id": "qP1_yOEGHJyq"
      },
      "source": [
        "# Configuring the optimizers\n",
        "# model.compile(optimizer=optimizers.RMSprop(lr=0.001),\n",
        "#               loss='binary_crossentropy',\n",
        "#               metrics=['accuracy'])"
      ],
      "execution_count": 12,
      "outputs": []
    },
    {
      "cell_type": "code",
      "metadata": {
        "id": "faaSMQcsIKzG"
      },
      "source": [
        "# Using custom losses & metrics\n",
        "# from keras import metrics, losses\n",
        "# model.compile(optimizer=optimizers.RMSprop(lr=0.001),\n",
        "#               loss=losses.binary_crossentropy,\n",
        "#               metrics=[metrics.accuracy])"
      ],
      "execution_count": 13,
      "outputs": []
    },
    {
      "cell_type": "code",
      "metadata": {
        "colab": {
          "base_uri": "https://localhost:8080/"
        },
        "id": "OxYnT7Z6KWvY",
        "outputId": "a5571b46-6ba2-4453-f04a-12f02722bd7b"
      },
      "source": [
        "history_dict = history.history\n",
        "history_dict.keys()"
      ],
      "execution_count": 14,
      "outputs": [
        {
          "output_type": "execute_result",
          "data": {
            "text/plain": [
              "dict_keys(['loss', 'accuracy', 'val_loss', 'val_accuracy'])"
            ]
          },
          "metadata": {
            "tags": []
          },
          "execution_count": 14
        }
      ]
    },
    {
      "cell_type": "code",
      "metadata": {
        "colab": {
          "base_uri": "https://localhost:8080/",
          "height": 295
        },
        "id": "W-V1tRV-Loiv",
        "outputId": "2b2b22a9-ad37-49ee-f279-b38982b08a2d"
      },
      "source": [
        "# Plotting the training & Validation loss\n",
        "\n",
        "import matplotlib.pyplot as plt\n",
        "\n",
        "history_dictory = history.history\n",
        "loss_values = history_dict['loss']\n",
        "val_loss_values = history_dict['val_loss']\n",
        "epochs = range(1, len(loss_values) + 1)\n",
        "\n",
        "plt.plot(epochs, loss_values, 'bo', label='Trainign Loss')\n",
        "plt.plot(epochs, val_loss_values, 'r', label='Validation Loss')\n",
        "plt.title('Training and validation loss')\n",
        "plt.xlabel('Epochs')\n",
        "plt.ylabel('Loss')\n",
        "plt.legend()\n",
        "plt.show()"
      ],
      "execution_count": 15,
      "outputs": [
        {
          "output_type": "display_data",
          "data": {
            "image/png": "[encoded data removed]",
            "text/plain": [
              "<Figure size 432x288 with 1 Axes>"
            ]
          },
          "metadata": {
            "tags": [],
            "needs_background": "light"
          }
        }
      ]
    },
    {
      "cell_type": "code",
      "metadata": {
        "colab": {
          "base_uri": "https://localhost:8080/",
          "height": 295
        },
        "id": "f5u8wrsKNGCK",
        "outputId": "6b8d6983-2b7c-46b5-9fd0-9d7bc0c1712b"
      },
      "source": [
        "# Plotting training & validation Accuracy\n",
        "acc = history_dict['accuracy']\n",
        "val_acc = history_dict['val_accuracy']\n",
        "epochs = range(1, len(loss_values) + 1)\n",
        "\n",
        "plt.plot(epochs, acc, 'bo', label='Training Accuracy')\n",
        "plt.plot(epochs, val_acc, 'r', label='Validation Accuracy')\n",
        "plt.title('Training and validation Accuracy')\n",
        "plt.xlabel('Epochs')\n",
        "plt.ylabel('Accuracy')\n",
        "plt.legend()\n",
        "plt.show()\n"
      ],
      "execution_count": 16,
      "outputs": [
        {
          "output_type": "display_data",
          "data": {
            "image/png": "[encoded data removed]",
            "text/plain": [
              "<Figure size 432x288 with 1 Axes>"
            ]
          },
          "metadata": {
            "tags": [],
            "needs_background": "light"
          }
        }
      ]
    },
    {
      "cell_type": "code",
      "metadata": {
        "id": "bvvKe61wOdFS",
        "colab": {
          "base_uri": "https://localhost:8080/"
        },
        "outputId": "2404575a-f7dd-47c7-fa50-fe611bbd028e"
      },
      "source": [
        "## Retraining a model from scratch for epochs = 4 & then evaluate on test data\n",
        "\n",
        "model = models.Sequential()\n",
        "model.add(layers.Dense(16, activation='relu', input_shape=(10000,)))\n",
        "model.add(layers.Dense(16, activation='relu'))\n",
        "model.add(layers.Dense(16, activation='relu'))\n",
        "model.add(layers.Dense(1, activation='sigmoid'))\n",
        "\n",
        "model.compile(optimizer='rmsprop',\n",
        "              loss='binary_crossentropy',\n",
        "              metrics=['accuracy'])\n",
        "\n",
        "model.fit(x_train, y_train, epochs=4, batch_size=512)\n",
        "results = model.evaluate(x_test, y_test)\n"
      ],
      "execution_count": 17,
      "outputs": [
        {
          "output_type": "stream",
          "text": [
            "Epoch 1/4\n",
            "49/49 [==============================] - 1s 12ms/step - loss: 0.5897 - accuracy: 0.7002\n",
            "Epoch 2/4\n",
            "49/49 [==============================] - 1s 11ms/step - loss: 0.2997 - accuracy: 0.9121\n",
            "Epoch 3/4\n",
            "49/49 [==============================] - 1s 12ms/step - loss: 0.2006 - accuracy: 0.9364\n",
            "Epoch 4/4\n",
            "49/49 [==============================] - 1s 12ms/step - loss: 0.1620 - accuracy: 0.9476\n",
            "782/782 [==============================] - 2s 2ms/step - loss: 0.3122 - accuracy: 0.8804\n"
          ],
          "name": "stdout"
        }
      ]
    },
    {
      "cell_type": "code",
      "metadata": {
        "colab": {
          "base_uri": "https://localhost:8080/"
        },
        "id": "vwIztVBNViTO",
        "outputId": "fc1f130d-0edd-402c-8331-3f5bf2662c60"
      },
      "source": [
        "results"
      ],
      "execution_count": 18,
      "outputs": [
        {
          "output_type": "execute_result",
          "data": {
            "text/plain": [
              "[0.3122401833534241, 0.8804399967193604]"
            ]
          },
          "metadata": {
            "tags": []
          },
          "execution_count": 18
        }
      ]
    },
    {
      "cell_type": "code",
      "metadata": {
        "colab": {
          "base_uri": "https://localhost:8080/"
        },
        "id": "sItgKEL2Vnuo",
        "outputId": "6bb4803c-2be3-4e33-c893-08c6643d827d"
      },
      "source": [
        "# Use trained network to predict on new data\n",
        "model.predict(x_test)"
      ],
      "execution_count": 19,
      "outputs": [
        {
          "output_type": "execute_result",
          "data": {
            "text/plain": [
              "array([[0.17510065],\n",
              "       [0.99999595],\n",
              "       [0.9376279 ],\n",
              "       ...,\n",
              "       [0.20426147],\n",
              "       [0.10548656],\n",
              "       [0.7675203 ]], dtype=float32)"
            ]
          },
          "metadata": {
            "tags": []
          },
          "execution_count": 19
        }
      ]
    },
    {
      "cell_type": "code",
      "metadata": {
        "id": "ms_cKEMwWT0I"
      },
      "source": [
        ""
      ],
      "execution_count": 19,
      "outputs": []
    }
  ]
}