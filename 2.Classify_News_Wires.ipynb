{
  "nbformat": 4,
  "nbformat_minor": 0,
  "metadata": {
    "colab": {
      "name": "2.ClassifyNewsWires",
      "provenance": [],
      "collapsed_sections": []
    },
    "kernelspec": {
      "name": "python3",
      "display_name": "Python 3"
    },
    "language_info": {
      "name": "python"
    }
  },
  "cells": [
    {
      "cell_type": "code",
      "metadata": {
        "colab": {
          "base_uri": "https://localhost:8080/",
          "height": 35
        },
        "id": "5XH3e50mAYx7",
        "outputId": "c6db2b5b-db63-4bac-ab44-a66dfa86d265"
      },
      "source": [
        "import keras\n",
        "keras.__version__"
      ],
      "execution_count": 43,
      "outputs": [
        {
          "output_type": "execute_result",
          "data": {
            "application/vnd.google.colaboratory.intrinsic+json": {
              "type": "string"
            },
            "text/plain": [
              "'2.5.0'"
            ]
          },
          "metadata": {
            "tags": []
          },
          "execution_count": 43
        }
      ]
    },
    {
      "cell_type": "code",
      "metadata": {
        "colab": {
          "base_uri": "https://localhost:8080/"
        },
        "id": "BjllYPT1CUVs",
        "outputId": "1238619d-962e-4287-bf36-81395c01165c"
      },
      "source": [
        "from keras.datasets import reuters\n",
        "(train_data, train_labels), (test_data, test_labels) = reuters.load_data(num_words=10000)"
      ],
      "execution_count": 44,
      "outputs": [
        {
          "output_type": "stream",
          "text": [
            "/usr/local/lib/python3.7/dist-packages/keras/datasets/reuters.py:143: VisibleDeprecationWarning: Creating an ndarray from ragged nested sequences (which is a list-or-tuple of lists-or-tuples-or ndarrays with different lengths or shapes) is deprecated. If you meant to do this, you must specify 'dtype=object' when creating the ndarray\n",
            "  x_train, y_train = np.array(xs[:idx]), np.array(labels[:idx])\n",
            "/usr/local/lib/python3.7/dist-packages/keras/datasets/reuters.py:144: VisibleDeprecationWarning: Creating an ndarray from ragged nested sequences (which is a list-or-tuple of lists-or-tuples-or ndarrays with different lengths or shapes) is deprecated. If you meant to do this, you must specify 'dtype=object' when creating the ndarray\n",
            "  x_test, y_test = np.array(xs[idx:]), np.array(labels[idx:])\n"
          ],
          "name": "stderr"
        }
      ]
    },
    {
      "cell_type": "code",
      "metadata": {
        "colab": {
          "base_uri": "https://localhost:8080/"
        },
        "id": "COvOlG6zCqOH",
        "outputId": "7ccbf4e7-81ba-4a51-bc39-1617fad36de7"
      },
      "source": [
        "len(train_data), len(test_data)"
      ],
      "execution_count": 45,
      "outputs": [
        {
          "output_type": "execute_result",
          "data": {
            "text/plain": [
              "(8982, 2246)"
            ]
          },
          "metadata": {
            "tags": []
          },
          "execution_count": 45
        }
      ]
    },
    {
      "cell_type": "code",
      "metadata": {
        "colab": {
          "base_uri": "https://localhost:8080/"
        },
        "id": "uvDnF2hkC0yn",
        "outputId": "0c96ca51-ccbb-4418-ed39-6739bd599cd5"
      },
      "source": [
        "train_labels, test_labels                                              "
      ],
      "execution_count": 46,
      "outputs": [
        {
          "output_type": "execute_result",
          "data": {
            "text/plain": [
              "(array([ 3,  4,  3, ..., 25,  3, 25]), array([ 3, 10,  1, ...,  3,  3, 24]))"
            ]
          },
          "metadata": {
            "tags": []
          },
          "execution_count": 46
        }
      ]
    },
    {
      "cell_type": "code",
      "metadata": {
        "colab": {
          "base_uri": "https://localhost:8080/"
        },
        "id": "Y9vpz0SbnRjA",
        "outputId": "d70de4ae-bbce-4de2-8107-fad6d5fa8663"
      },
      "source": [
        "len(train_labels), len(test_labels)"
      ],
      "execution_count": 47,
      "outputs": [
        {
          "output_type": "execute_result",
          "data": {
            "text/plain": [
              "(8982, 2246)"
            ]
          },
          "metadata": {
            "tags": []
          },
          "execution_count": 47
        }
      ]
    },
    {
      "cell_type": "code",
      "metadata": {
        "id": "nHv3SO6qnmjo"
      },
      "source": [
        "# Decode it back to words\n",
        "\n",
        "word_index = reuters.get_word_index()\n",
        "reverse_word_index = dict([(value, key) for (key, value) in word_index.items()])\n",
        "# Note that our indices were offset by 3\n",
        "# because 0, 1 and 2 are reserved indices for \"padding\", \"start of sequence\", and \"unknown\".\n",
        "decoded_newswire = ' '.join([reverse_word_index.get(i - 3, '?') for i in train_data[0]])"
      ],
      "execution_count": 48,
      "outputs": []
    },
    {
      "cell_type": "code",
      "metadata": {
        "colab": {
          "base_uri": "https://localhost:8080/",
          "height": 52
        },
        "id": "NGOxpSmmoV6n",
        "outputId": "8be19f55-ebc0-4768-c6c7-39a01b2a9a34"
      },
      "source": [
        "decoded_newswire"
      ],
      "execution_count": 49,
      "outputs": [
        {
          "output_type": "execute_result",
          "data": {
            "application/vnd.google.colaboratory.intrinsic+json": {
              "type": "string"
            },
            "text/plain": [
              "'? ? ? said as a result of its december acquisition of space co it expects earnings per share in 1987 of 1 15 to 1 30 dlrs per share up from 70 cts in 1986 the company said pretax net should rise to nine to 10 mln dlrs from six mln dlrs in 1986 and rental operation revenues to 19 to 22 mln dlrs from 12 5 mln dlrs it said cash flow per share this year should be 2 50 to three dlrs reuter 3'"
            ]
          },
          "metadata": {
            "tags": []
          },
          "execution_count": 49
        }
      ]
    },
    {
      "cell_type": "code",
      "metadata": {
        "id": "uelEsIRqoZzf"
      },
      "source": [
        "# Preparing the data\n",
        "\n",
        "# Vectorize the  Trainign data\n",
        "import numpy as np\n",
        "def vectorize_sequences(sequences, dimension=10000):\n",
        "    results = np.zeros((len(sequences), dimension))\n",
        "    for i, sequence in enumerate(sequences):\n",
        "        results[i, sequence] = 1.\n",
        "    return results\n",
        "\n",
        "# Our vectorized training data\n",
        "x_train = vectorize_sequences(train_data)\n",
        "# Our vectorized test data\n",
        "x_test = vectorize_sequences(test_data)\n",
        "\n",
        "\n",
        "\n",
        "# Vectorize the training labels\n",
        "def to_one_hot(labels, dimension=46):\n",
        "    results = np.zeros((len(labels), dimension))\n",
        "    for i, label in enumerate(labels):\n",
        "        results[i, label] = 1.\n",
        "    return results\n",
        "\n",
        "# Our vectorized training labels\n",
        "one_hot_train_labels = to_one_hot(train_labels)\n",
        "# Our vectorized test labels\n",
        "one_hot_test_labels = to_one_hot(test_labels)"
      ],
      "execution_count": 50,
      "outputs": []
    },
    {
      "cell_type": "code",
      "metadata": {
        "id": "99GwTQ7Ho9oO"
      },
      "source": [
        "# Note that there is a built-in way to do this in Keras, which you have already seen in action in our MNIST example\n",
        "\n",
        "# from keras.utils.np_utils import to_categorical\n",
        "# one_hot_train_labels = to_categorical(train_labels)\n",
        "# one_hot_test_labels = to_categorical(test_labels)"
      ],
      "execution_count": 51,
      "outputs": []
    },
    {
      "cell_type": "code",
      "metadata": {
        "colab": {
          "base_uri": "https://localhost:8080/"
        },
        "id": "0s5ind4gp3d-",
        "outputId": "5f2c63b3-df7b-4774-bef9-44d53e965f43"
      },
      "source": [
        "# Building the network\n",
        "\n",
        "from keras import models\n",
        "from keras import layers\n",
        "\n",
        "model = models.Sequential()\n",
        "model.add(layers.Dense(64, activation='relu', input_shape=(10000,)))\n",
        "model.add(layers.Dense(64, activation='relu'))\n",
        "model.add(layers.Dense(46, activation='softmax'))\n",
        "\n",
        "\n",
        "# Compile the model\n",
        "model.compile(optimizer='rmsprop',\n",
        "              loss='categorical_crossentropy',\n",
        "              metrics=['accuracy'])\n",
        "\n",
        "\n",
        "# Validating the approach ( lets apart 1000 samples from training data)\n",
        "x_val = x_train[:1000]\n",
        "partial_x_train = x_train[1000:]\n",
        "\n",
        "y_val = one_hot_train_labels[:1000]\n",
        "partial_y_train = one_hot_train_labels[1000:]\n",
        "\n",
        "\n",
        "# Train/fit the model (fro 20 epcohs)\n",
        "history = model.fit(partial_x_train,\n",
        "                    partial_y_train,\n",
        "                    epochs=20,\n",
        "                    batch_size=512,\n",
        "                    validation_data=(x_val, y_val))\n",
        "\n"
      ],
      "execution_count": 52,
      "outputs": [
        {
          "output_type": "stream",
          "text": [
            "Epoch 1/20\n",
            "16/16 [==============================] - 2s 51ms/step - loss: 3.0238 - accuracy: 0.4222 - val_loss: 1.7058 - val_accuracy: 0.6400\n",
            "Epoch 2/20\n",
            "16/16 [==============================] - 1s 37ms/step - loss: 1.4524 - accuracy: 0.6992 - val_loss: 1.3023 - val_accuracy: 0.7180\n",
            "Epoch 3/20\n",
            "16/16 [==============================] - 1s 34ms/step - loss: 1.0729 - accuracy: 0.7721 - val_loss: 1.1311 - val_accuracy: 0.7730\n",
            "Epoch 4/20\n",
            "16/16 [==============================] - 1s 35ms/step - loss: 0.8303 - accuracy: 0.8280 - val_loss: 1.0386 - val_accuracy: 0.7870\n",
            "Epoch 5/20\n",
            "16/16 [==============================] - 1s 34ms/step - loss: 0.6563 - accuracy: 0.8665 - val_loss: 0.9586 - val_accuracy: 0.7970\n",
            "Epoch 6/20\n",
            "16/16 [==============================] - 1s 35ms/step - loss: 0.5220 - accuracy: 0.8947 - val_loss: 0.9270 - val_accuracy: 0.8080\n",
            "Epoch 7/20\n",
            "16/16 [==============================] - 1s 34ms/step - loss: 0.4106 - accuracy: 0.9181 - val_loss: 0.9149 - val_accuracy: 0.8040\n",
            "Epoch 8/20\n",
            "16/16 [==============================] - 1s 34ms/step - loss: 0.3447 - accuracy: 0.9244 - val_loss: 0.9133 - val_accuracy: 0.8040\n",
            "Epoch 9/20\n",
            "16/16 [==============================] - 1s 34ms/step - loss: 0.2807 - accuracy: 0.9379 - val_loss: 0.9395 - val_accuracy: 0.8070\n",
            "Epoch 10/20\n",
            "16/16 [==============================] - 1s 34ms/step - loss: 0.2259 - accuracy: 0.9473 - val_loss: 0.9220 - val_accuracy: 0.8110\n",
            "Epoch 11/20\n",
            "16/16 [==============================] - 1s 34ms/step - loss: 0.1955 - accuracy: 0.9539 - val_loss: 0.9099 - val_accuracy: 0.8120\n",
            "Epoch 12/20\n",
            "16/16 [==============================] - 1s 34ms/step - loss: 0.1785 - accuracy: 0.9530 - val_loss: 0.9907 - val_accuracy: 0.8010\n",
            "Epoch 13/20\n",
            "16/16 [==============================] - 1s 35ms/step - loss: 0.1568 - accuracy: 0.9565 - val_loss: 1.0365 - val_accuracy: 0.7840\n",
            "Epoch 14/20\n",
            "16/16 [==============================] - 1s 35ms/step - loss: 0.1328 - accuracy: 0.9620 - val_loss: 0.9755 - val_accuracy: 0.8130\n",
            "Epoch 15/20\n",
            "16/16 [==============================] - 1s 35ms/step - loss: 0.1304 - accuracy: 0.9619 - val_loss: 1.0078 - val_accuracy: 0.8000\n",
            "Epoch 16/20\n",
            "16/16 [==============================] - 1s 35ms/step - loss: 0.1225 - accuracy: 0.9593 - val_loss: 0.9748 - val_accuracy: 0.8190\n",
            "Epoch 17/20\n",
            "16/16 [==============================] - 1s 35ms/step - loss: 0.1153 - accuracy: 0.9609 - val_loss: 1.0346 - val_accuracy: 0.8020\n",
            "Epoch 18/20\n",
            "16/16 [==============================] - 1s 36ms/step - loss: 0.1098 - accuracy: 0.9610 - val_loss: 1.0638 - val_accuracy: 0.8010\n",
            "Epoch 19/20\n",
            "16/16 [==============================] - 1s 34ms/step - loss: 0.1053 - accuracy: 0.9607 - val_loss: 1.0599 - val_accuracy: 0.8060\n",
            "Epoch 20/20\n",
            "16/16 [==============================] - 1s 34ms/step - loss: 0.1019 - accuracy: 0.9606 - val_loss: 1.1014 - val_accuracy: 0.8120\n"
          ],
          "name": "stdout"
        }
      ]
    },
    {
      "cell_type": "code",
      "metadata": {
        "colab": {
          "base_uri": "https://localhost:8080/",
          "height": 295
        },
        "id": "MCPKqK28q1AN",
        "outputId": "f3c1ded4-ec0e-4d16-e60d-141502834247"
      },
      "source": [
        "# display the Loss & Accuracy curve\n",
        "\n",
        "# Plot Training & Validation loss\n",
        "import matplotlib.pyplot as plt\n",
        "\n",
        "loss = history.history['loss']\n",
        "val_loss = history.history['val_loss']\n",
        "\n",
        "epochs = range(1, len(loss) + 1)\n",
        "\n",
        "plt.plot(epochs, loss, 'bo', label='Training loss')\n",
        "plt.plot(epochs, val_loss, 'b', label='Validation loss')\n",
        "plt.title('Training and validation loss')\n",
        "plt.xlabel('Epochs')\n",
        "plt.ylabel('Loss')\n",
        "plt.legend()\n",
        "\n",
        "plt.show()\n"
      ],
      "execution_count": 53,
      "outputs": [
        {
          "output_type": "display_data",
          "data": {
            "image/png": "[encoded data removed]",
            "text/plain": [
              "<Figure size 432x288 with 1 Axes>"
            ]
          },
          "metadata": {
            "tags": [],
            "needs_background": "light"
          }
        }
      ]
    },
    {
      "cell_type": "code",
      "metadata": {
        "colab": {
          "base_uri": "https://localhost:8080/",
          "height": 295
        },
        "id": "uKzRgfhdrFcc",
        "outputId": "80e47eb1-f9f2-41c2-a6c5-293b3d3817b9"
      },
      "source": [
        "# Plotting Training & Validation acuuracy\n",
        "\n",
        "plt.clf()   # clear figure\n",
        "\n",
        "acc = history.history['accuracy']\n",
        "val_acc = history.history['val_accuracy']\n",
        "\n",
        "plt.plot(epochs, acc, 'bo', label='Training acc')\n",
        "plt.plot(epochs, val_acc, 'b', label='Validation acc')\n",
        "plt.title('Training and validation accuracy')\n",
        "plt.xlabel('Epochs')\n",
        "plt.ylabel('Loss')\n",
        "plt.legend()\n",
        "\n",
        "plt.show()"
      ],
      "execution_count": 54,
      "outputs": [
        {
          "output_type": "display_data",
          "data": {
            "image/png": "[encoded data removed]",
            "text/plain": [
              "<Figure size 432x288 with 1 Axes>"
            ]
          },
          "metadata": {
            "tags": [],
            "needs_background": "light"
          }
        }
      ]
    },
    {
      "cell_type": "code",
      "metadata": {
        "colab": {
          "base_uri": "https://localhost:8080/"
        },
        "id": "Pz7tGptqrQI8",
        "outputId": "19979902-1806-41ed-85ab-992f6f043eff"
      },
      "source": [
        "## Retraining a model from scratch for epochs = 8 & then evaluate on test data\n",
        "model = models.Sequential()\n",
        "model.add(layers.Dense(64, activation='relu', input_shape=(10000,)))\n",
        "model.add(layers.Dense(64, activation='relu'))\n",
        "model.add(layers.Dense(46, activation='softmax'))\n",
        "\n",
        "model.compile(optimizer='rmsprop',\n",
        "              loss='categorical_crossentropy',\n",
        "              metrics=['accuracy'])\n",
        "model.fit(partial_x_train,\n",
        "          partial_y_train,\n",
        "          epochs=8,\n",
        "          batch_size=512,\n",
        "          validation_data=(x_val, y_val))\n",
        "results = model.evaluate(x_test, one_hot_test_labels)\n"
      ],
      "execution_count": 55,
      "outputs": [
        {
          "output_type": "stream",
          "text": [
            "Epoch 1/8\n",
            "16/16 [==============================] - 2s 53ms/step - loss: 3.0832 - accuracy: 0.3731 - val_loss: 1.6724 - val_accuracy: 0.6640\n",
            "Epoch 2/8\n",
            "16/16 [==============================] - 1s 35ms/step - loss: 1.4902 - accuracy: 0.6894 - val_loss: 1.2715 - val_accuracy: 0.7170\n",
            "Epoch 3/8\n",
            "16/16 [==============================] - 1s 36ms/step - loss: 1.0791 - accuracy: 0.7669 - val_loss: 1.1293 - val_accuracy: 0.7660\n",
            "Epoch 4/8\n",
            "16/16 [==============================] - 1s 36ms/step - loss: 0.8361 - accuracy: 0.8244 - val_loss: 1.0139 - val_accuracy: 0.7910\n",
            "Epoch 5/8\n",
            "16/16 [==============================] - 1s 36ms/step - loss: 0.6514 - accuracy: 0.8661 - val_loss: 0.9527 - val_accuracy: 0.8050\n",
            "Epoch 6/8\n",
            "16/16 [==============================] - 1s 36ms/step - loss: 0.5232 - accuracy: 0.8965 - val_loss: 0.9468 - val_accuracy: 0.7930\n",
            "Epoch 7/8\n",
            "16/16 [==============================] - 1s 35ms/step - loss: 0.4246 - accuracy: 0.9126 - val_loss: 0.9167 - val_accuracy: 0.8140\n",
            "Epoch 8/8\n",
            "16/16 [==============================] - 1s 36ms/step - loss: 0.3368 - accuracy: 0.9296 - val_loss: 0.9160 - val_accuracy: 0.8130\n",
            "71/71 [==============================] - 0s 2ms/step - loss: 1.0064 - accuracy: 0.7801\n"
          ],
          "name": "stdout"
        }
      ]
    },
    {
      "cell_type": "code",
      "metadata": {
        "colab": {
          "base_uri": "https://localhost:8080/"
        },
        "id": "NCigVqUxsRtE",
        "outputId": "46e2609e-b569-4293-ca29-a0997f743a2c"
      },
      "source": [
        "results"
      ],
      "execution_count": 56,
      "outputs": [
        {
          "output_type": "execute_result",
          "data": {
            "text/plain": [
              "[1.0064384937286377, 0.780053436756134]"
            ]
          },
          "metadata": {
            "tags": []
          },
          "execution_count": 56
        }
      ]
    },
    {
      "cell_type": "code",
      "metadata": {
        "colab": {
          "base_uri": "https://localhost:8080/"
        },
        "id": "_j38aDnOsUer",
        "outputId": "ba865a03-c81f-4082-f537-cd6c96623bfb"
      },
      "source": [
        "import copy\n",
        "\n",
        "test_labels_copy = copy.copy(test_labels)\n",
        "np.random.shuffle(test_labels_copy)\n",
        "float(np.sum(np.array(test_labels) == np.array(test_labels_copy))) / len(test_labels)"
      ],
      "execution_count": 57,
      "outputs": [
        {
          "output_type": "execute_result",
          "data": {
            "text/plain": [
              "0.182546749777382"
            ]
          },
          "metadata": {
            "tags": []
          },
          "execution_count": 57
        }
      ]
    },
    {
      "cell_type": "code",
      "metadata": {
        "id": "Ym6XHWmqshvr"
      },
      "source": [
        "# Generate prediction on new data\n",
        "predictions = model.predict(x_test)"
      ],
      "execution_count": 58,
      "outputs": []
    },
    {
      "cell_type": "code",
      "metadata": {
        "colab": {
          "base_uri": "https://localhost:8080/"
        },
        "id": "sJTmAcr6ssrj",
        "outputId": "62ca9900-0b93-4e95-9a4d-59e2951c35ba"
      },
      "source": [
        "predictions[0].shape"
      ],
      "execution_count": 59,
      "outputs": [
        {
          "output_type": "execute_result",
          "data": {
            "text/plain": [
              "(46,)"
            ]
          },
          "metadata": {
            "tags": []
          },
          "execution_count": 59
        }
      ]
    },
    {
      "cell_type": "code",
      "metadata": {
        "colab": {
          "base_uri": "https://localhost:8080/"
        },
        "id": "rsqVCiuosv4z",
        "outputId": "bb62fd40-dcc4-47d1-ad7a-e11c61c40c2b"
      },
      "source": [
        "np.sum(predictions[0])"
      ],
      "execution_count": 60,
      "outputs": [
        {
          "output_type": "execute_result",
          "data": {
            "text/plain": [
              "1.0000001"
            ]
          },
          "metadata": {
            "tags": []
          },
          "execution_count": 60
        }
      ]
    },
    {
      "cell_type": "code",
      "metadata": {
        "colab": {
          "base_uri": "https://localhost:8080/"
        },
        "id": "f6dqhUkps6zM",
        "outputId": "86ba9cd9-6e64-43f1-db07-5695a0433712"
      },
      "source": [
        "np.argmax(predictions[0])"
      ],
      "execution_count": 61,
      "outputs": [
        {
          "output_type": "execute_result",
          "data": {
            "text/plain": [
              "3"
            ]
          },
          "metadata": {
            "tags": []
          },
          "execution_count": 61
        }
      ]
    },
    {
      "cell_type": "code",
      "metadata": {
        "id": "kjKJ0hm-s9FT"
      },
      "source": [
        "## A differnet way to handle the labels & loss\n",
        "\n",
        "\n",
        "y_train = np.array(train_labels)\n",
        "y_test = np.array(test_labels)\n",
        "\n",
        "model.compile(optimizer='rmsprop', loss='sparse_categorical_crossentropy', metrics=['acc'])"
      ],
      "execution_count": 62,
      "outputs": []
    },
    {
      "cell_type": "code",
      "metadata": {
        "colab": {
          "base_uri": "https://localhost:8080/"
        },
        "id": "X6NS-sCTtJzi",
        "outputId": "fc5b0990-fd70-4c92-fbc3-a302890075a9"
      },
      "source": [
        "# A model with information BOTTLENECK\n",
        "# On the importance of having sufficiently large intermediate layers\n",
        "# Avoid intermediate layers (using 4 layers instead of 64)\n",
        "\n",
        "model = models.Sequential()\n",
        "model.add(layers.Dense(64, activation='relu', input_shape=(10000,)))\n",
        "model.add(layers.Dense(4, activation='relu'))     # using 4 layers instead of 64\n",
        "model.add(layers.Dense(46, activation='softmax'))\n",
        "\n",
        "model.compile(optimizer='rmsprop',\n",
        "              loss='categorical_crossentropy',\n",
        "              metrics=['accuracy'])\n",
        "model.fit(partial_x_train,\n",
        "          partial_y_train,\n",
        "          epochs=20,\n",
        "          batch_size=128,\n",
        "          validation_data=(x_val, y_val))"
      ],
      "execution_count": 63,
      "outputs": [
        {
          "output_type": "stream",
          "text": [
            "Epoch 1/20\n",
            "63/63 [==============================] - 2s 18ms/step - loss: 3.0958 - accuracy: 0.3878 - val_loss: 1.9213 - val_accuracy: 0.5630\n",
            "Epoch 2/20\n",
            "63/63 [==============================] - 1s 14ms/step - loss: 1.6946 - accuracy: 0.5911 - val_loss: 1.6069 - val_accuracy: 0.5920\n",
            "Epoch 3/20\n",
            "63/63 [==============================] - 1s 14ms/step - loss: 1.4313 - accuracy: 0.6100 - val_loss: 1.4408 - val_accuracy: 0.6220\n",
            "Epoch 4/20\n",
            "63/63 [==============================] - 1s 15ms/step - loss: 1.1862 - accuracy: 0.6775 - val_loss: 1.3477 - val_accuracy: 0.6790\n",
            "Epoch 5/20\n",
            "63/63 [==============================] - 1s 14ms/step - loss: 1.0376 - accuracy: 0.7472 - val_loss: 1.2988 - val_accuracy: 0.6920\n",
            "Epoch 6/20\n",
            "63/63 [==============================] - 1s 14ms/step - loss: 0.9145 - accuracy: 0.7683 - val_loss: 1.2739 - val_accuracy: 0.6940\n",
            "Epoch 7/20\n",
            "63/63 [==============================] - 1s 14ms/step - loss: 0.8528 - accuracy: 0.7788 - val_loss: 1.2691 - val_accuracy: 0.7060\n",
            "Epoch 8/20\n",
            "63/63 [==============================] - 1s 14ms/step - loss: 0.7612 - accuracy: 0.8003 - val_loss: 1.2903 - val_accuracy: 0.7090\n",
            "Epoch 9/20\n",
            "63/63 [==============================] - 1s 14ms/step - loss: 0.6886 - accuracy: 0.8147 - val_loss: 1.3010 - val_accuracy: 0.7130\n",
            "Epoch 10/20\n",
            "63/63 [==============================] - 1s 13ms/step - loss: 0.6619 - accuracy: 0.8226 - val_loss: 1.3679 - val_accuracy: 0.7080\n",
            "Epoch 11/20\n",
            "63/63 [==============================] - 1s 14ms/step - loss: 0.6100 - accuracy: 0.8310 - val_loss: 1.3820 - val_accuracy: 0.7080\n",
            "Epoch 12/20\n",
            "63/63 [==============================] - 1s 14ms/step - loss: 0.5834 - accuracy: 0.8360 - val_loss: 1.3999 - val_accuracy: 0.7070\n",
            "Epoch 13/20\n",
            "63/63 [==============================] - 1s 14ms/step - loss: 0.5512 - accuracy: 0.8381 - val_loss: 1.4571 - val_accuracy: 0.7060\n",
            "Epoch 14/20\n",
            "63/63 [==============================] - 1s 13ms/step - loss: 0.5223 - accuracy: 0.8379 - val_loss: 1.4984 - val_accuracy: 0.7030\n",
            "Epoch 15/20\n",
            "63/63 [==============================] - 1s 14ms/step - loss: 0.4927 - accuracy: 0.8486 - val_loss: 1.5486 - val_accuracy: 0.7020\n",
            "Epoch 16/20\n",
            "63/63 [==============================] - 1s 13ms/step - loss: 0.4755 - accuracy: 0.8459 - val_loss: 1.6090 - val_accuracy: 0.6990\n",
            "Epoch 17/20\n",
            "63/63 [==============================] - 1s 14ms/step - loss: 0.4554 - accuracy: 0.8464 - val_loss: 1.6383 - val_accuracy: 0.6990\n",
            "Epoch 18/20\n",
            "63/63 [==============================] - 1s 14ms/step - loss: 0.4565 - accuracy: 0.8511 - val_loss: 1.7055 - val_accuracy: 0.6980\n",
            "Epoch 19/20\n",
            "63/63 [==============================] - 1s 14ms/step - loss: 0.4310 - accuracy: 0.8552 - val_loss: 1.7835 - val_accuracy: 0.6950\n",
            "Epoch 20/20\n",
            "63/63 [==============================] - 1s 13ms/step - loss: 0.4177 - accuracy: 0.8588 - val_loss: 1.8688 - val_accuracy: 0.6910\n"
          ],
          "name": "stdout"
        },
        {
          "output_type": "execute_result",
          "data": {
            "text/plain": [
              "<keras.callbacks.History at 0x7ff20036d710>"
            ]
          },
          "metadata": {
            "tags": []
          },
          "execution_count": 63
        }
      ]
    },
    {
      "cell_type": "code",
      "metadata": {
        "id": "knZdCqMPtWDy"
      },
      "source": [
        ""
      ],
      "execution_count": 63,
      "outputs": []
    }
  ]
}